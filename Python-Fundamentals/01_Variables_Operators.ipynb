x
y+7
t= y
